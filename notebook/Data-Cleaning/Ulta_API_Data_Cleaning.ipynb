{
 "cells": [
  {
   "cell_type": "code",
   "execution_count": 6,
   "id": "ab20c5dd",
   "metadata": {},
   "outputs": [],
   "source": [
    "import pandas as pd"
   ]
  },
  {
   "cell_type": "code",
   "execution_count": null,
   "id": "608b3ff1",
   "metadata": {},
   "outputs": [],
   "source": [
    "# Load raw data file (Ulta-specific reviews only)\n",
    "ulta_reviews_df = pd.read_csv(\"../../Data/Raw/Ulta-Skincare-Reviews.csv\")"
   ]
  },
  {
   "cell_type": "code",
   "execution_count": 8,
   "id": "6c96a62d",
   "metadata": {},
   "outputs": [],
   "source": [
    "# Clean column names: lowercase, strip spaces, replace spaces with underscores\n",
    "ulta_reviews_df.columns = ulta_reviews_df.columns.str.strip().str.lower().str.replace(\" \", \"_\")\n",
    "\n",
    "\n",
    "# Drop rows with missing critical data in Ulta reviews\n",
    "ulta_reviews_clean = ulta_reviews_df.dropna(subset=['review_text', 'review_location'])"
   ]
  },
  {
   "cell_type": "code",
   "execution_count": 11,
   "id": "b32cc1e4",
   "metadata": {},
   "outputs": [
    {
     "name": "stderr",
     "output_type": "stream",
     "text": [
      "C:\\Users\\aadit\\AppData\\Local\\Temp\\ipykernel_27588\\398507925.py:2: SettingWithCopyWarning: \n",
      "A value is trying to be set on a copy of a slice from a DataFrame.\n",
      "Try using .loc[row_indexer,col_indexer] = value instead\n",
      "\n",
      "See the caveats in the documentation: https://pandas.pydata.org/pandas-docs/stable/user_guide/indexing.html#returning-a-view-versus-a-copy\n",
      "  ulta_reviews_clean['brand'] = ulta_reviews_clean['brand'].str.strip().str.lower()\n",
      "C:\\Users\\aadit\\AppData\\Local\\Temp\\ipykernel_27588\\398507925.py:3: SettingWithCopyWarning: \n",
      "A value is trying to be set on a copy of a slice from a DataFrame.\n",
      "Try using .loc[row_indexer,col_indexer] = value instead\n",
      "\n",
      "See the caveats in the documentation: https://pandas.pydata.org/pandas-docs/stable/user_guide/indexing.html#returning-a-view-versus-a-copy\n",
      "  ulta_reviews_clean['product'] = ulta_reviews_clean['product'].str.strip().str.lower()\n"
     ]
    }
   ],
   "source": [
    "# Standardize brand and product names for matching\n",
    "ulta_reviews_clean['brand'] = ulta_reviews_clean['brand'].str.strip().str.lower()\n",
    "ulta_reviews_clean['product'] = ulta_reviews_clean['product'].str.strip().str.lower()\n"
   ]
  },
  {
   "cell_type": "code",
   "execution_count": null,
   "id": "a2660b34",
   "metadata": {},
   "outputs": [
    {
     "ename": "NameError",
     "evalue": "name 'ulta_reviews_clean' is not defined",
     "output_type": "error",
     "traceback": [
      "\u001b[31m---------------------------------------------------------------------------\u001b[39m",
      "\u001b[31mNameError\u001b[39m                                 Traceback (most recent call last)",
      "\u001b[36mCell\u001b[39m\u001b[36m \u001b[39m\u001b[32mIn[1]\u001b[39m\u001b[32m, line 2\u001b[39m\n\u001b[32m      1\u001b[39m \u001b[38;5;66;03m# Save cleaned version to CSV for loading into database\u001b[39;00m\n\u001b[32m----> \u001b[39m\u001b[32m2\u001b[39m \u001b[43multa_reviews_clean\u001b[49m.to_csv(\u001b[33m\"\u001b[39m\u001b[33m../data/clean/ulta_reviews_clean.csv\u001b[39m\u001b[33m\"\u001b[39m, index=\u001b[38;5;28;01mFalse\u001b[39;00m)\n\u001b[32m      4\u001b[39m \u001b[38;5;28mprint\u001b[39m(\u001b[33m\"\u001b[39m\u001b[33mCleaning complete. File saved:\u001b[39m\u001b[33m\"\u001b[39m)\n\u001b[32m      5\u001b[39m \u001b[38;5;28mprint\u001b[39m(\u001b[33m\"\u001b[39m\u001b[33m- data/ulta_reviews_clean.csv\u001b[39m\u001b[33m\"\u001b[39m)\n",
      "\u001b[31mNameError\u001b[39m: name 'ulta_reviews_clean' is not defined"
     ]
    }
   ],
   "source": [
    "# Save cleaned version to CSV for loading into database\n",
    "ulta_reviews_clean.to_csv(\"../../Data/Clean/ulta_reviews_clean.csv\", index=False)\n",
    "\n",
    "print(\"Cleaning complete. File saved:\")\n",
    "print(\"- data/ulta_reviews_clean.csv\")"
   ]
  },
  {
   "cell_type": "code",
   "execution_count": null,
   "id": "10d9717d",
   "metadata": {},
   "outputs": [],
   "source": []
  }
 ],
 "metadata": {
  "kernelspec": {
   "display_name": "env",
   "language": "python",
   "name": "python3"
  },
  "language_info": {
   "codemirror_mode": {
    "name": "ipython",
    "version": 3
   },
   "file_extension": ".py",
   "mimetype": "text/x-python",
   "name": "python",
   "nbconvert_exporter": "python",
   "pygments_lexer": "ipython3",
   "version": "3.12.3"
  }
 },
 "nbformat": 4,
 "nbformat_minor": 5
}
